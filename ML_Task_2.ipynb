{
  "nbformat": 4,
  "nbformat_minor": 0,
  "metadata": {
    "colab": {
      "provenance": []
    },
    "kernelspec": {
      "name": "python3",
      "display_name": "Python 3"
    },
    "language_info": {
      "name": "python"
    }
  },
  "cells": [
    {
      "cell_type": "code",
      "execution_count": 2,
      "metadata": {
        "colab": {
          "base_uri": "https://localhost:8080/"
        },
        "id": "IE1wC_4x-dWU",
        "outputId": "eec77b9c-f595-4979-f700-d98860bb7149"
      },
      "outputs": [
        {
          "output_type": "stream",
          "name": "stdout",
          "text": [
            "Sample Recommendation:\n",
            "\n",
            " Restaurant Name                   Cuisines             City  Average Cost for two  Aggregate rating\n",
            "Izakaya Kikufuji                   Japanese      Makati City                  1200               4.5\n",
            "Le Petit Souffle French, Japanese, Desserts      Makati City                  1100               4.8\n",
            "    Din Tai Fung                    Chinese Mandaluyong City                  1000               4.4\n",
            "    Hunan Palace                    Chinese       Sioux City                    25               3.8\n",
            "    Ekim Burgers                  Fast Food  Wellington City                    25               4.5\n"
          ]
        }
      ],
      "source": [
        "#Task_2 Restaurant Recommendation\n",
        "import pandas as pd\n",
        "from sklearn.feature_extraction.text import TfidfVectorizer\n",
        "from sklearn.metrics.pairwise import cosine_similarity\n",
        "\n",
        "df = pd.read_csv('/content/Dataset .csv')\n",
        "\n",
        "#  Select Relevant Columns\n",
        "df_clean = df[['Restaurant Name', 'Cuisines', 'City', 'Average Cost for two', 'Aggregate rating']].copy()\n",
        "\n",
        "#  Handle Missing Values\n",
        "df_clean.dropna(subset=['Cuisines'], inplace=True)\n",
        "\n",
        "#  Creating Price Range Category\n",
        "def price_bucket(cost):\n",
        "    if cost <= 300:\n",
        "        return 'Low'\n",
        "    elif cost <= 700:\n",
        "        return 'Medium'\n",
        "    else:\n",
        "        return 'High'\n",
        "\n",
        "df_clean['Price Range'] = df_clean['Average Cost for two'].apply(price_bucket)\n",
        "\n",
        "# Combining Features into a Single Text Column\n",
        "df_clean['features'] = df_clean['Cuisines'] + ' ' + df_clean['City'] + ' ' + df_clean['Price Range']\n",
        "\n",
        "#  Vectorize the Combined Features\n",
        "vectorizer = TfidfVectorizer(stop_words='english')\n",
        "tfidf_matrix = vectorizer.fit_transform(df_clean['features'])\n",
        "\n",
        "# Recommendation Function\n",
        "def recommend_restaurants(cuisine, city, price_range, top_n=5):\n",
        "    user_input = f\"{cuisine} {city} {price_range}\"\n",
        "    input_vec = vectorizer.transform([user_input])\n",
        "    cosine_sim = cosine_similarity(input_vec, tfidf_matrix).flatten()\n",
        "\n",
        "    # Get top N indices\n",
        "    top_indices = cosine_sim.argsort()[::-1][:top_n]\n",
        "    return df_clean.iloc[top_indices][['Restaurant Name', 'Cuisines', 'City', 'Average Cost for two', 'Aggregate rating']]\n",
        "\n",
        "# Test the System with Sample Input\n",
        "if __name__ == '__main__':\n",
        "    print(\"Sample Recommendation:\\n\")\n",
        "    user_cuisine = 'Indian'\n",
        "    user_city = 'Makati City'\n",
        "    user_price_range = 'High'\n",
        "\n",
        "    recommendations = recommend_restaurants(user_cuisine, user_city, user_price_range, top_n=5)\n",
        "    print(recommendations.to_string(index=False))\n"
      ]
    }
  ]
}